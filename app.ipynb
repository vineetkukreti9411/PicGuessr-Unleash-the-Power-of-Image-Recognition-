{
 "cells": [
  {
   "cell_type": "code",
   "execution_count": 88,
   "id": "783b56fb",
   "metadata": {},
   "outputs": [],
   "source": [
    "from flask import Flask, render_template, request, jsonify\n",
    "from tensorflow.keras.models import load_model\n",
    "from tensorflow.keras.preprocessing import image\n",
    "from tensorflow.keras.applications.vgg16 import preprocess_input, decode_predictions\n",
    "import numpy as np\n",
    "import io\n",
    "import base64"
   ]
  },
  {
   "cell_type": "code",
   "execution_count": 89,
   "id": "486da687",
   "metadata": {},
   "outputs": [],
   "source": [
    "\n",
    "app = Flask(__name__)\n"
   ]
  },
  {
   "cell_type": "code",
   "execution_count": 90,
   "id": "8634bd35",
   "metadata": {},
   "outputs": [],
   "source": [
    "\n",
    "# Load the VGG16 model\n",
    "model = load_model('vgg16_model.keras')\n"
   ]
  },
  {
   "cell_type": "code",
   "execution_count": 91,
   "id": "0ca953a3",
   "metadata": {},
   "outputs": [],
   "source": [
    "\n",
    "@app.route('/')\n",
    "def index():\n",
    "    return render_template('index.html')\n"
   ]
  },
  {
   "cell_type": "code",
   "execution_count": 92,
   "id": "62549b3e",
   "metadata": {},
   "outputs": [],
   "source": [
    "\n",
    "@app.route('/predict', methods=['POST'])\n",
    "def predict():\n",
    "    try:\n",
    "        # Get the uploaded image file\n",
    "        file = request.files['file']\n",
    "\n",
    "        # Convert the FileStorage object to bytes using io.BytesIO\n",
    "        img_bytes = io.BytesIO(file.read())\n",
    "\n",
    "        # Load and preprocess the image\n",
    "        img = image.load_img(img_bytes, target_size=(224, 224))\n",
    "        img_array = image.img_to_array(img)\n",
    "        img_array = np.expand_dims(img_array, axis=0)\n",
    "        img_array = preprocess_input(img_array)\n",
    "\n",
    "        # Make predictions\n",
    "        predictions = model.predict(img_array)\n",
    "        decoded_predictions = decode_predictions(predictions, top=3)[0]\n",
    "\n",
    "        # Format predictions as JSON\n",
    "        results = [{'label': label, 'score': float(score)} for (_, label, score) in decoded_predictions]\n",
    "\n",
    "        # Encode the image as base64\n",
    "        img_base64 = base64.b64encode(img_bytes.getvalue()).decode('utf-8')\n",
    "\n",
    "        # Pass data to the HTML template\n",
    "        return render_template('result.html', img_base64=img_base64, prediction=decoded_predictions[0])\n",
    "\n",
    "    except Exception as e:\n",
    "        return jsonify({'error': f'An error occurred: {str(e)}'}), 500\n"
   ]
  },
  {
   "cell_type": "code",
   "execution_count": 93,
   "id": "22531ff5",
   "metadata": {},
   "outputs": [
    {
     "name": "stdout",
     "output_type": "stream",
     "text": [
      " * Serving Flask app '__main__' (lazy loading)\n",
      " * Environment: production\n",
      "\u001b[31m   WARNING: This is a development server. Do not use it in a production deployment.\u001b[0m\n",
      "\u001b[2m   Use a production WSGI server instead.\u001b[0m\n",
      " * Debug mode: off\n"
     ]
    },
    {
     "name": "stderr",
     "output_type": "stream",
     "text": [
      " * Running on http://127.0.0.1:5000/ (Press CTRL+C to quit)\n",
      "127.0.0.1 - - [23/Dec/2023 23:35:04] \"GET / HTTP/1.1\" 200 -\n"
     ]
    },
    {
     "name": "stdout",
     "output_type": "stream",
     "text": [
      "1/1 [==============================] - 1s 748ms/step\n"
     ]
    },
    {
     "name": "stderr",
     "output_type": "stream",
     "text": [
      "127.0.0.1 - - [23/Dec/2023 23:35:12] \"POST /predict HTTP/1.1\" 200 -\n",
      "127.0.0.1 - - [23/Dec/2023 23:35:15] \"GET / HTTP/1.1\" 200 -\n",
      "127.0.0.1 - - [23/Dec/2023 23:35:17] \"POST /predict HTTP/1.1\" 500 -\n"
     ]
    },
    {
     "name": "stdout",
     "output_type": "stream",
     "text": [
      "1/1 [==============================] - 0s 479ms/step\n"
     ]
    },
    {
     "name": "stderr",
     "output_type": "stream",
     "text": [
      "127.0.0.1 - - [23/Dec/2023 23:35:32] \"POST /predict HTTP/1.1\" 200 -\n",
      "127.0.0.1 - - [23/Dec/2023 23:35:34] \"GET / HTTP/1.1\" 200 -\n"
     ]
    }
   ],
   "source": [
    "if __name__ == '__main__':\n",
    "    app.run(debug=False)"
   ]
  },
  {
   "cell_type": "code",
   "execution_count": null,
   "id": "ad396e63",
   "metadata": {},
   "outputs": [],
   "source": []
  }
 ],
 "metadata": {
  "kernelspec": {
   "display_name": "Python 3 (ipykernel)",
   "language": "python",
   "name": "python3"
  },
  "language_info": {
   "codemirror_mode": {
    "name": "ipython",
    "version": 3
   },
   "file_extension": ".py",
   "mimetype": "text/x-python",
   "name": "python",
   "nbconvert_exporter": "python",
   "pygments_lexer": "ipython3",
   "version": "3.10.9"
  }
 },
 "nbformat": 4,
 "nbformat_minor": 5
}
